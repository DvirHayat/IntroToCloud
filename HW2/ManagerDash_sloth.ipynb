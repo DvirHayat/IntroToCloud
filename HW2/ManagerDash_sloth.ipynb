{
  "cells": [
    {
      "cell_type": "markdown",
      "metadata": {
        "id": "view-in-github",
        "colab_type": "text"
      },
      "source": [
        "<a href=\"https://colab.research.google.com/github/DvirHayat/IntroToCloud/blob/main/HW2/ManagerDash_sloth.ipynb\" target=\"_parent\"><img src=\"https://colab.research.google.com/assets/colab-badge.svg\" alt=\"Open In Colab\"/></a>"
      ]
    },
    {
      "cell_type": "markdown",
      "source": [
        "### Dependencies"
      ],
      "metadata": {
        "id": "NADU4IJiKEwv"
      },
      "id": "NADU4IJiKEwv"
    },
    {
      "cell_type": "code",
      "execution_count": 1,
      "id": "b3746946",
      "metadata": {
        "id": "b3746946",
        "colab": {
          "base_uri": "https://localhost:8080/"
        },
        "outputId": "7142772a-039a-4597-92d9-5e090c5c6504"
      },
      "outputs": [
        {
          "output_type": "stream",
          "name": "stdout",
          "text": [
            "Requirement already satisfied: matplotlib in /usr/local/lib/python3.10/dist-packages (3.7.1)\n",
            "Requirement already satisfied: pandas in /usr/local/lib/python3.10/dist-packages (2.0.3)\n",
            "Requirement already satisfied: firebase in /usr/local/lib/python3.10/dist-packages (4.0.1)\n",
            "Requirement already satisfied: contourpy>=1.0.1 in /usr/local/lib/python3.10/dist-packages (from matplotlib) (1.2.1)\n",
            "Requirement already satisfied: cycler>=0.10 in /usr/local/lib/python3.10/dist-packages (from matplotlib) (0.12.1)\n",
            "Requirement already satisfied: fonttools>=4.22.0 in /usr/local/lib/python3.10/dist-packages (from matplotlib) (4.53.1)\n",
            "Requirement already satisfied: kiwisolver>=1.0.1 in /usr/local/lib/python3.10/dist-packages (from matplotlib) (1.4.5)\n",
            "Requirement already satisfied: numpy>=1.20 in /usr/local/lib/python3.10/dist-packages (from matplotlib) (1.25.2)\n",
            "Requirement already satisfied: packaging>=20.0 in /usr/local/lib/python3.10/dist-packages (from matplotlib) (24.1)\n",
            "Requirement already satisfied: pillow>=6.2.0 in /usr/local/lib/python3.10/dist-packages (from matplotlib) (9.4.0)\n",
            "Requirement already satisfied: pyparsing>=2.3.1 in /usr/local/lib/python3.10/dist-packages (from matplotlib) (3.1.2)\n",
            "Requirement already satisfied: python-dateutil>=2.7 in /usr/local/lib/python3.10/dist-packages (from matplotlib) (2.8.2)\n",
            "Requirement already satisfied: pytz>=2020.1 in /usr/local/lib/python3.10/dist-packages (from pandas) (2023.4)\n",
            "Requirement already satisfied: tzdata>=2022.1 in /usr/local/lib/python3.10/dist-packages (from pandas) (2024.1)\n",
            "Requirement already satisfied: requests in /usr/local/lib/python3.10/dist-packages (from firebase) (2.31.0)\n",
            "Requirement already satisfied: six>=1.5 in /usr/local/lib/python3.10/dist-packages (from python-dateutil>=2.7->matplotlib) (1.16.0)\n",
            "Requirement already satisfied: charset-normalizer<4,>=2 in /usr/local/lib/python3.10/dist-packages (from requests->firebase) (3.3.2)\n",
            "Requirement already satisfied: idna<4,>=2.5 in /usr/local/lib/python3.10/dist-packages (from requests->firebase) (3.7)\n",
            "Requirement already satisfied: urllib3<3,>=1.21.1 in /usr/local/lib/python3.10/dist-packages (from requests->firebase) (2.0.7)\n",
            "Requirement already satisfied: certifi>=2017.4.17 in /usr/local/lib/python3.10/dist-packages (from requests->firebase) (2024.7.4)\n"
          ]
        }
      ],
      "source": [
        "!pip install matplotlib pandas firebase"
      ]
    },
    {
      "cell_type": "markdown",
      "source": [
        "### Imports"
      ],
      "metadata": {
        "id": "MJEYL3OQKKka"
      },
      "id": "MJEYL3OQKKka"
    },
    {
      "cell_type": "code",
      "execution_count": 2,
      "id": "5921568a",
      "metadata": {
        "id": "5921568a"
      },
      "outputs": [],
      "source": [
        "import pandas as pd\n",
        "import json\n",
        "import ipywidgets as widgets\n",
        "from IPython.display import display, clear_output ,HTML\n",
        "import matplotlib.pyplot as plt\n",
        "import matplotlib.dates as mdates\n",
        "import pandas as pd\n",
        "from matplotlib.backends.backend_pdf import PdfPages\n",
        "import datetime\n",
        "from firebase import firebase"
      ]
    },
    {
      "cell_type": "markdown",
      "source": [
        "### File selction - choose json file at run time or group file from firebase"
      ],
      "metadata": {
        "id": "j3NVznBjKY3L"
      },
      "id": "j3NVznBjKY3L"
    },
    {
      "cell_type": "markdown",
      "source": [
        "#### Our team JSON file (stored in firebase)"
      ],
      "metadata": {
        "id": "jg_-oODuH3R4"
      },
      "id": "jg_-oODuH3R4"
    },
    {
      "cell_type": "code",
      "source": [
        "# Initialize Firebase application\n",
        "firebase_app = firebase.FirebaseApplication('https://cloudcourse-79588-default-rtdb.europe-west1.firebasedatabase.app/', None)\n",
        "\n",
        "# Fetch data from Firebase\n",
        "result = firebase_app.get('/', None)\n",
        "\n",
        "# Save the result as a JSON file\n",
        "with open('firebase_data.json', 'w') as json_file:\n",
        "    json.dump(result, json_file, indent=4)\n",
        "\n",
        "print(\"Data saved to firebase_data.json\")\n",
        "\n",
        "# Read JSON file into DataFrame\n",
        "filename='firebase_data.json'"
      ],
      "metadata": {
        "id": "meozYIfaHgyN",
        "colab": {
          "base_uri": "https://localhost:8080/"
        },
        "outputId": "839173e8-c36f-4d4a-d093-c30b6271b4bc"
      },
      "id": "meozYIfaHgyN",
      "execution_count": 3,
      "outputs": [
        {
          "output_type": "stream",
          "name": "stdout",
          "text": [
            "Data saved to firebase_data.json\n"
          ]
        }
      ]
    },
    {
      "cell_type": "markdown",
      "source": [
        "#### Generic suitable JSON file selection (JSON OnShape formatted)\n",
        "filename and data frame will be determened by user selection:\n",
        "> cancel upload - firebase JSON file (our group file)\n",
        "\n",
        "> upload succeeded -file uploaded from device\n",
        "\n",
        "\n",
        ""
      ],
      "metadata": {
        "id": "SrrvflfLHlfD"
      },
      "id": "SrrvflfLHlfD"
    },
    {
      "cell_type": "code",
      "source": [
        "from google.colab import files\n",
        "try:\n",
        "  uploaded = files.upload()\n",
        "  # Get the filename from the uploaded dictionary\n",
        "  filename = list(uploaded.keys())[0]\n",
        "except:\n",
        "  print(\"firebase data selected\")\n",
        "finally:\n",
        "  data = pd.read_json(filename)"
      ],
      "metadata": {
        "colab": {
          "base_uri": "https://localhost:8080/",
          "height": 56
        },
        "id": "KgGatKR_Kdi-",
        "outputId": "f521046a-f733-450d-8bc4-c5437c390d68"
      },
      "id": "KgGatKR_Kdi-",
      "execution_count": 8,
      "outputs": [
        {
          "output_type": "display_data",
          "data": {
            "text/plain": [
              "<IPython.core.display.HTML object>"
            ],
            "text/html": [
              "\n",
              "     <input type=\"file\" id=\"files-ef90d21e-0d45-4d86-8b6f-82c9df44154b\" name=\"files[]\" multiple disabled\n",
              "        style=\"border:none\" />\n",
              "     <output id=\"result-ef90d21e-0d45-4d86-8b6f-82c9df44154b\">\n",
              "      Upload widget is only available when the cell has been executed in the\n",
              "      current browser session. Please rerun this cell to enable.\n",
              "      </output>\n",
              "      <script>// Copyright 2017 Google LLC\n",
              "//\n",
              "// Licensed under the Apache License, Version 2.0 (the \"License\");\n",
              "// you may not use this file except in compliance with the License.\n",
              "// You may obtain a copy of the License at\n",
              "//\n",
              "//      http://www.apache.org/licenses/LICENSE-2.0\n",
              "//\n",
              "// Unless required by applicable law or agreed to in writing, software\n",
              "// distributed under the License is distributed on an \"AS IS\" BASIS,\n",
              "// WITHOUT WARRANTIES OR CONDITIONS OF ANY KIND, either express or implied.\n",
              "// See the License for the specific language governing permissions and\n",
              "// limitations under the License.\n",
              "\n",
              "/**\n",
              " * @fileoverview Helpers for google.colab Python module.\n",
              " */\n",
              "(function(scope) {\n",
              "function span(text, styleAttributes = {}) {\n",
              "  const element = document.createElement('span');\n",
              "  element.textContent = text;\n",
              "  for (const key of Object.keys(styleAttributes)) {\n",
              "    element.style[key] = styleAttributes[key];\n",
              "  }\n",
              "  return element;\n",
              "}\n",
              "\n",
              "// Max number of bytes which will be uploaded at a time.\n",
              "const MAX_PAYLOAD_SIZE = 100 * 1024;\n",
              "\n",
              "function _uploadFiles(inputId, outputId) {\n",
              "  const steps = uploadFilesStep(inputId, outputId);\n",
              "  const outputElement = document.getElementById(outputId);\n",
              "  // Cache steps on the outputElement to make it available for the next call\n",
              "  // to uploadFilesContinue from Python.\n",
              "  outputElement.steps = steps;\n",
              "\n",
              "  return _uploadFilesContinue(outputId);\n",
              "}\n",
              "\n",
              "// This is roughly an async generator (not supported in the browser yet),\n",
              "// where there are multiple asynchronous steps and the Python side is going\n",
              "// to poll for completion of each step.\n",
              "// This uses a Promise to block the python side on completion of each step,\n",
              "// then passes the result of the previous step as the input to the next step.\n",
              "function _uploadFilesContinue(outputId) {\n",
              "  const outputElement = document.getElementById(outputId);\n",
              "  const steps = outputElement.steps;\n",
              "\n",
              "  const next = steps.next(outputElement.lastPromiseValue);\n",
              "  return Promise.resolve(next.value.promise).then((value) => {\n",
              "    // Cache the last promise value to make it available to the next\n",
              "    // step of the generator.\n",
              "    outputElement.lastPromiseValue = value;\n",
              "    return next.value.response;\n",
              "  });\n",
              "}\n",
              "\n",
              "/**\n",
              " * Generator function which is called between each async step of the upload\n",
              " * process.\n",
              " * @param {string} inputId Element ID of the input file picker element.\n",
              " * @param {string} outputId Element ID of the output display.\n",
              " * @return {!Iterable<!Object>} Iterable of next steps.\n",
              " */\n",
              "function* uploadFilesStep(inputId, outputId) {\n",
              "  const inputElement = document.getElementById(inputId);\n",
              "  inputElement.disabled = false;\n",
              "\n",
              "  const outputElement = document.getElementById(outputId);\n",
              "  outputElement.innerHTML = '';\n",
              "\n",
              "  const pickedPromise = new Promise((resolve) => {\n",
              "    inputElement.addEventListener('change', (e) => {\n",
              "      resolve(e.target.files);\n",
              "    });\n",
              "  });\n",
              "\n",
              "  const cancel = document.createElement('button');\n",
              "  inputElement.parentElement.appendChild(cancel);\n",
              "  cancel.textContent = 'Cancel upload';\n",
              "  const cancelPromise = new Promise((resolve) => {\n",
              "    cancel.onclick = () => {\n",
              "      resolve(null);\n",
              "    };\n",
              "  });\n",
              "\n",
              "  // Wait for the user to pick the files.\n",
              "  const files = yield {\n",
              "    promise: Promise.race([pickedPromise, cancelPromise]),\n",
              "    response: {\n",
              "      action: 'starting',\n",
              "    }\n",
              "  };\n",
              "\n",
              "  cancel.remove();\n",
              "\n",
              "  // Disable the input element since further picks are not allowed.\n",
              "  inputElement.disabled = true;\n",
              "\n",
              "  if (!files) {\n",
              "    return {\n",
              "      response: {\n",
              "        action: 'complete',\n",
              "      }\n",
              "    };\n",
              "  }\n",
              "\n",
              "  for (const file of files) {\n",
              "    const li = document.createElement('li');\n",
              "    li.append(span(file.name, {fontWeight: 'bold'}));\n",
              "    li.append(span(\n",
              "        `(${file.type || 'n/a'}) - ${file.size} bytes, ` +\n",
              "        `last modified: ${\n",
              "            file.lastModifiedDate ? file.lastModifiedDate.toLocaleDateString() :\n",
              "                                    'n/a'} - `));\n",
              "    const percent = span('0% done');\n",
              "    li.appendChild(percent);\n",
              "\n",
              "    outputElement.appendChild(li);\n",
              "\n",
              "    const fileDataPromise = new Promise((resolve) => {\n",
              "      const reader = new FileReader();\n",
              "      reader.onload = (e) => {\n",
              "        resolve(e.target.result);\n",
              "      };\n",
              "      reader.readAsArrayBuffer(file);\n",
              "    });\n",
              "    // Wait for the data to be ready.\n",
              "    let fileData = yield {\n",
              "      promise: fileDataPromise,\n",
              "      response: {\n",
              "        action: 'continue',\n",
              "      }\n",
              "    };\n",
              "\n",
              "    // Use a chunked sending to avoid message size limits. See b/62115660.\n",
              "    let position = 0;\n",
              "    do {\n",
              "      const length = Math.min(fileData.byteLength - position, MAX_PAYLOAD_SIZE);\n",
              "      const chunk = new Uint8Array(fileData, position, length);\n",
              "      position += length;\n",
              "\n",
              "      const base64 = btoa(String.fromCharCode.apply(null, chunk));\n",
              "      yield {\n",
              "        response: {\n",
              "          action: 'append',\n",
              "          file: file.name,\n",
              "          data: base64,\n",
              "        },\n",
              "      };\n",
              "\n",
              "      let percentDone = fileData.byteLength === 0 ?\n",
              "          100 :\n",
              "          Math.round((position / fileData.byteLength) * 100);\n",
              "      percent.textContent = `${percentDone}% done`;\n",
              "\n",
              "    } while (position < fileData.byteLength);\n",
              "  }\n",
              "\n",
              "  // All done.\n",
              "  yield {\n",
              "    response: {\n",
              "      action: 'complete',\n",
              "    }\n",
              "  };\n",
              "}\n",
              "\n",
              "scope.google = scope.google || {};\n",
              "scope.google.colab = scope.google.colab || {};\n",
              "scope.google.colab._files = {\n",
              "  _uploadFiles,\n",
              "  _uploadFilesContinue,\n",
              "};\n",
              "})(self);\n",
              "</script> "
            ]
          },
          "metadata": {}
        },
        {
          "output_type": "stream",
          "name": "stdout",
          "text": [
            "firebase data selected\n"
          ]
        }
      ]
    },
    {
      "cell_type": "markdown",
      "source": [
        "### General data cleansing and transforming"
      ],
      "metadata": {
        "id": "LZ-Z7wAIB_7U"
      },
      "id": "LZ-Z7wAIB_7U"
    },
    {
      "cell_type": "code",
      "execution_count": 5,
      "id": "002d6321",
      "metadata": {
        "id": "002d6321"
      },
      "outputs": [],
      "source": [
        "\n",
        "df = pd.DataFrame(data)\n",
        "df['Time'] = pd.to_datetime(df['Time'])\n",
        "\n",
        "# Extract date and hour from 'Time' column\n",
        "df['Date'] = df['Time'].dt.date\n",
        "df['Hour'] = df['Time'].dt.hour\n",
        "\n",
        "df.set_index('Time', inplace=True)"
      ]
    },
    {
      "cell_type": "markdown",
      "source": [
        "### View Project related data - learning curve, attention graph\n",
        "#### Added feature - export selected graph to PDF"
      ],
      "metadata": {
        "id": "g37040FgLFsS"
      },
      "id": "g37040FgLFsS"
    },
    {
      "cell_type": "code",
      "execution_count": 6,
      "id": "6da7ac96",
      "metadata": {
        "id": "6da7ac96",
        "colab": {
          "base_uri": "https://localhost:8080/",
          "height": 708,
          "referenced_widgets": [
            "5bb33deb093f43ce916f8d6ca7c10069",
            "dbdb00b6b4064d54b2e116389a977389",
            "956c4f6fca7540d89ad0a9a3e04b589b",
            "c05a6c3075c54884bd01a2f63e308cf8",
            "7b828a779f9d496ba6ef600a984bc7c8",
            "798c3d78c3dd4ad8978802b19125943d",
            "580d48b01c7c49afb26ccca804b4c020",
            "a0451fc9433741dca1cbac81f1103e04",
            "f21a93a1937e41549f67fa3c94c7b1df",
            "d3775f53fd8f4491977cf9249d11db86",
            "943d8093cfd54fcf8e418163fc15d6d2",
            "7cfdb55dc8c74781962a415f3966eac8",
            "5b67fa3d857040b3b6a414ebad8762f8",
            "374d1aac3d7e4cec93582dfcec6ffcf7",
            "8b41a02a67e544668394180388d7ef42"
          ]
        },
        "outputId": "dd7332da-35b4-4be9-f29c-90154e8a1552"
      },
      "outputs": [
        {
          "output_type": "display_data",
          "data": {
            "text/plain": [
              "Dropdown(description='Document:', index=9, options=('Whole Project', 'Industry 4.0 Project', 'Part Studio 1 Co…"
            ],
            "application/vnd.jupyter.widget-view+json": {
              "version_major": 2,
              "version_minor": 0,
              "model_id": "5bb33deb093f43ce916f8d6ca7c10069"
            }
          },
          "metadata": {}
        },
        {
          "output_type": "display_data",
          "data": {
            "text/plain": [
              "Dropdown(description='Data Type:', index=1, options=('Learning Curve', 'Working Hours'), value='Working Hours'…"
            ],
            "application/vnd.jupyter.widget-view+json": {
              "version_major": 2,
              "version_minor": 0,
              "model_id": "c05a6c3075c54884bd01a2f63e308cf8"
            }
          },
          "metadata": {}
        },
        {
          "output_type": "display_data",
          "data": {
            "text/plain": [
              "Dropdown(description='User:', index=1, options=('All Users', 'StudentA1', 'StudentA2', 'StudentA3'), value='St…"
            ],
            "application/vnd.jupyter.widget-view+json": {
              "version_major": 2,
              "version_minor": 0,
              "model_id": "580d48b01c7c49afb26ccca804b4c020"
            }
          },
          "metadata": {}
        },
        {
          "output_type": "display_data",
          "data": {
            "text/plain": [
              "Dropdown(description='Graph Type:', options=('Bar',), value='Bar')"
            ],
            "application/vnd.jupyter.widget-view+json": {
              "version_major": 2,
              "version_minor": 0,
              "model_id": "d3775f53fd8f4491977cf9249d11db86"
            }
          },
          "metadata": {}
        },
        {
          "output_type": "display_data",
          "data": {
            "text/plain": [
              "<Figure size 1000x600 with 1 Axes>"
            ],
            "image/png": "[encoded data removed]"
          },
          "metadata": {}
        },
        {
          "output_type": "display_data",
          "data": {
            "text/plain": [
              "Button(description='Export to PDF', style=ButtonStyle())"
            ],
            "application/vnd.jupyter.widget-view+json": {
              "version_major": 2,
              "version_minor": 0,
              "model_id": "5b67fa3d857040b3b6a414ebad8762f8"
            }
          },
          "metadata": {}
        }
      ],
      "source": [
        "# Create dropdowns for selecting document, data type, user, and graph type\n",
        "doc_dropdown = widgets.Dropdown(\n",
        "    options=['Whole Project'] + df['Document'].unique().tolist(),\n",
        "    value='Whole Project',\n",
        "    description='Document:',\n",
        ")\n",
        "\n",
        "data_type_dropdown = widgets.Dropdown(\n",
        "    options=['Learning Curve', 'Working Hours'],\n",
        "    value='Learning Curve',\n",
        "    description='Data Type:',\n",
        ")\n",
        "\n",
        "user_dropdown = widgets.Dropdown(\n",
        "    options=['All Users'] + df['User'].unique().tolist(),\n",
        "    value='All Users',\n",
        "    description='User:',\n",
        ")\n",
        "\n",
        "graph_type_dropdown = widgets.Dropdown(\n",
        "    options=['Line'],\n",
        "    value='Line',\n",
        "    description='Graph Type:',\n",
        ")\n",
        "\n",
        "# Global figure object\n",
        "global_fig = None\n",
        "\n",
        "# Function to update the graph type options based on data type and user\n",
        "def update_graph_type_options(data_type, user):\n",
        "    if data_type == 'Learning Curve':\n",
        "        graph_type_dropdown.options = ['Line']\n",
        "    elif data_type == 'Working Hours':\n",
        "        if user == 'All Users':\n",
        "            graph_type_dropdown.options = ['Bar', 'Pie']\n",
        "        else:\n",
        "            graph_type_dropdown.options = ['Bar']\n",
        "    graph_type_dropdown.value = graph_type_dropdown.options[0]\n",
        "\n",
        "# Function to plot learning curve\n",
        "def plot_learning_curve(filtered_df):\n",
        "    global global_fig\n",
        "    global_fig, ax = plt.subplots(figsize=(10, 6))\n",
        "    undo_counts = filtered_df[filtered_df['Description'].str.contains('undo', case=False)].resample('D').size()\n",
        "    redo_counts = filtered_df[filtered_df['Description'].str.contains('redo', case=False)].resample('D').size()\n",
        "    delete_counts = filtered_df[filtered_df['Description'].str.contains('delete', case=False)].resample('D').size()\n",
        "\n",
        "    num_days = (filtered_df.index.max() - filtered_df.index.min()).days + 1\n",
        "\n",
        "    if not undo_counts.empty:\n",
        "        ax.plot(undo_counts.index, undo_counts, marker='o', label='Undo Actions')\n",
        "    if not redo_counts.empty:\n",
        "        ax.plot(redo_counts.index, redo_counts, marker='o', label='Redo Actions')\n",
        "    if not delete_counts.empty:\n",
        "        ax.plot(delete_counts.index, delete_counts, marker='o', label='Delete Actions')\n",
        "\n",
        "    ax.set_title('Learning Curve (Count of Undo, Redo, and Delete Actions)')\n",
        "    ax.set_xlabel('Time')\n",
        "    ax.set_ylabel('Count of Actions')\n",
        "    ax.legend()\n",
        "    ax.xaxis.set_major_formatter(mdates.DateFormatter('%Y-%m-%d'))\n",
        "    ax.text(1.02, 0.5, f'Days: {num_days}', transform=ax.transAxes, fontsize=12, verticalalignment='center')\n",
        "    plt.setp(ax.get_xticklabels(), rotation=45, ha=\"right\")\n",
        "    plt.tight_layout(rect=[0, 0, 0.9, 1])  # Add space for the title and Days text\n",
        "    plt.subplots_adjust(top=0.85)  # Adjust the top margin for spacing\n",
        "    plt.show()\n",
        "    display(export_button)\n",
        "\n",
        "# Function to plot working hours\n",
        "def plot_working_hours(filtered_df, graph_type):\n",
        "    global global_fig\n",
        "    global_fig, ax = plt.subplots(figsize=(10, 6))\n",
        "    filtered_df = filtered_df.copy()  # Create a copy of the DataFrame to avoid SettingWithCopyWarning\n",
        "    filtered_df['Hour'] = filtered_df.index.hour\n",
        "    working_time = filtered_df.groupby(['Hour', 'User']).size().unstack(fill_value=0)\n",
        "    hours = range(24)\n",
        "    working_time = working_time.reindex(hours, fill_value=0)\n",
        "\n",
        "    non_zero_cols = working_time.columns[(working_time != 0).any()]\n",
        "    working_time = working_time[non_zero_cols]\n",
        "\n",
        "    num_days = (filtered_df.index.max() - filtered_df.index.min()).days + 1\n",
        "\n",
        "    if graph_type == 'Bar':\n",
        "        working_time.plot(kind='bar', stacked=True, ax=ax)\n",
        "        ax.set_title('Working Hours during day time')\n",
        "        ax.set_xlabel('Hour of Day')\n",
        "        ax.set_ylabel('Count of Actions')\n",
        "        ax.set_xticks(hours)\n",
        "        ax.legend(title='User')\n",
        "\n",
        "        for p in ax.patches:\n",
        "            if p.get_height() > 0:\n",
        "                ax.annotate(str(int(p.get_height())), (p.get_x() * 1.005, p.get_height() * 1.005))\n",
        "\n",
        "    elif graph_type == 'Pie':\n",
        "        user_sums = working_time.sum(axis=0)\n",
        "        if user_sums.sum() == 0:\n",
        "            print(\"No data available to display.\")\n",
        "            return\n",
        "        user_sums.plot(kind='pie', ax=ax, autopct='%1.1f%%', startangle=90)\n",
        "        ax.set_ylabel('')\n",
        "        ax.set_title('Working Hours during day time')\n",
        "\n",
        "    plt.tight_layout(rect=[0, 0, 0.9, 1])  # Add space for the title and Days text\n",
        "    if graph_type == 'Pie':\n",
        "        ax.text(1.3, 0.5, f'Days: {num_days}', transform=ax.transAxes, fontsize=12, verticalalignment='center')\n",
        "    else:\n",
        "        ax.text(1.02, 0.5, f'Days: {num_days}', transform=ax.transAxes, fontsize=12, verticalalignment='center')\n",
        "    plt.subplots_adjust(top=0.85)  # Adjust the top margin for spacing\n",
        "    plt.show()\n",
        "    display(export_button)\n",
        "\n",
        "# Function to export the current graph to a PDF\n",
        "def export_to_pdf(b):\n",
        "    global global_fig\n",
        "    if global_fig:\n",
        "        doc = doc_dropdown.value\n",
        "        data_type = data_type_dropdown.value\n",
        "        user = user_dropdown.value\n",
        "        export_date = datetime.datetime.now().strftime('%Y-%m-%d %H:%M:%S')\n",
        "        title = f'{doc} - {data_type} - {user}\\nDate of export: {export_date}'\n",
        "\n",
        "        pdf_filename = f'{doc.lower().replace(\" \", \"_\")}-{data_type.lower().replace(\" \", \"_\")}-{user.lower().replace(\" \", \"_\")}.pdf'\n",
        "\n",
        "        with PdfPages(pdf_filename) as pdf:\n",
        "            # Add title to the figure\n",
        "            global_fig.suptitle(title, x=0.4, y=1.05, fontsize=14)\n",
        "            pdf.savefig(global_fig, bbox_inches='tight')\n",
        "            print(f\"Graph exported to {pdf_filename}\")\n",
        "    else:\n",
        "        print(\"No graph to export.\")\n",
        "\n",
        "# Create a button for exporting the graph to PDF\n",
        "export_button = widgets.Button(description=\"Export to PDF\")\n",
        "export_button.on_click(export_to_pdf)\n",
        "\n",
        "# Function to update the plot based on dropdown selections\n",
        "def update_plot(doc, data_type, user, graph_type):\n",
        "    if doc == 'Whole Project':\n",
        "        filtered_df = df\n",
        "    else:\n",
        "        filtered_df = df[df['Document'] == doc]\n",
        "\n",
        "    if user != 'All Users':\n",
        "        filtered_df = filtered_df[filtered_df['User'] == user]\n",
        "\n",
        "    if not filtered_df.empty:\n",
        "        if data_type == 'Learning Curve':\n",
        "            if filtered_df[filtered_df['Description'].str.contains('undo|redo|delete', case=False)].empty:\n",
        "                print(\"No data available for the selected filters.\")\n",
        "            else:\n",
        "                plot_learning_curve(filtered_df)\n",
        "        elif data_type == 'Working Hours':\n",
        "            if filtered_df.empty:\n",
        "                print(\"No data available for the selected filters.\")\n",
        "            else:\n",
        "                plot_working_hours(filtered_df, graph_type)\n",
        "    else:\n",
        "        print(\"No data available for the selected filters.\")\n",
        "\n",
        "# Create event handlers for dropdowns\n",
        "def on_doc_change(change):\n",
        "    if change['type'] == 'change' and change['name'] == 'value':\n",
        "        clear_output(wait=True)\n",
        "        display(doc_dropdown, data_type_dropdown, user_dropdown, graph_type_dropdown)\n",
        "        update_plot(change['new'], data_type_dropdown.value, user_dropdown.value, graph_type_dropdown.value)\n",
        "\n",
        "def on_data_type_change(change):\n",
        "    if change['type'] == 'change' and change['name'] == 'value':\n",
        "        update_graph_type_options(change['new'], user_dropdown.value)\n",
        "        clear_output(wait=True)\n",
        "        display(doc_dropdown, data_type_dropdown, user_dropdown, graph_type_dropdown)\n",
        "        update_plot(doc_dropdown.value, change['new'], user_dropdown.value, graph_type_dropdown.value)\n",
        "\n",
        "def on_user_change(change):\n",
        "    if change['type'] == 'change' and change['name'] == 'value':\n",
        "        update_graph_type_options(data_type_dropdown.value, change['new'])\n",
        "        clear_output(wait=True)\n",
        "        display(doc_dropdown, data_type_dropdown, user_dropdown, graph_type_dropdown)\n",
        "        update_plot(doc_dropdown.value, data_type_dropdown.value, change['new'], graph_type_dropdown.value)\n",
        "\n",
        "def on_graph_type_change(change):\n",
        "    if change['type'] == 'change' and change['name'] == 'value':\n",
        "        clear_output(wait=True)\n",
        "        display(doc_dropdown, data_type_dropdown, user_dropdown, graph_type_dropdown)\n",
        "        update_plot(doc_dropdown.value, data_type_dropdown.value, user_dropdown.value, change['new'])\n",
        "\n",
        "doc_dropdown.observe(on_doc_change)\n",
        "data_type_dropdown.observe(on_data_type_change)\n",
        "user_dropdown.observe(on_user_change)\n",
        "graph_type_dropdown.observe(on_graph_type_change)\n",
        "\n",
        "# Initialize graph type options based on the default data type\n",
        "update_graph_type_options(data_type_dropdown.value, user_dropdown.value)\n",
        "\n",
        "# Display the dropdowns\n",
        "display(doc_dropdown, data_type_dropdown, user_dropdown, graph_type_dropdown)\n"
      ]
    },
    {
      "cell_type": "markdown",
      "source": [
        "### View User Related graphs:\n",
        "* Activity table (actions in each relevant project)\n",
        "* Top 5 most active projects\n",
        "* Top 10 most common actions\n",
        "* Activity in tabs of the top 3 active projects  "
      ],
      "metadata": {
        "id": "dmy7_BR-LYqK"
      },
      "id": "dmy7_BR-LYqK"
    },
    {
      "cell_type": "code",
      "source": [
        "# Create user dropdown\n",
        "\n",
        "# Define function to create user dropdown\n",
        "def create_user_dropdown():\n",
        "    return widgets.Dropdown(\n",
        "        options=data['User'].unique(),\n",
        "        description='User:',\n",
        "        disabled=False,\n",
        "    )\n",
        "\n",
        "user_dropdown_1 = create_user_dropdown()\n",
        "display(user_dropdown_1)\n",
        "\n",
        "# Output widget for the table,active projects, top 10 actions\n",
        "output_description_table = widgets.Output()\n",
        "output_active_projects_chart = widgets.Output()\n",
        "output_common_actions_chart = widgets.Output()\n",
        "output_nested_pie_chart = widgets.Output()\n",
        "\n",
        "display(output_description_table)\n",
        "display(output_active_projects_chart)\n",
        "display(output_common_actions_chart)\n",
        "display(output_nested_pie_chart)\n",
        "\n",
        "# Callback function to update the table\n",
        "def update_description_table(user):\n",
        "    user_data = data[data['User'] == user]\n",
        "    description_counts = user_data['Document'].value_counts().reset_index()\n",
        "    description_counts.columns = ['Document', 'Count']\n",
        "\n",
        "    with output_description_table:\n",
        "        output_description_table.clear_output()\n",
        "        display(HTML(description_counts.to_html(index=False)))\n",
        "\n",
        "# Link dropdown to the update function\n",
        "def on_user_change_table(change):\n",
        "    update_description_table(change['new'])\n",
        "\n",
        "# Callback function to update the bar chart\n",
        "def update_active_projects_chart(user):\n",
        "    user_data = data[data['User'] == user]\n",
        "    description_counts = user_data['Document'].value_counts().reset_index()\n",
        "    description_counts.columns = ['Document', 'Count']\n",
        "\n",
        "    top_active_projects = description_counts.head(5)\n",
        "\n",
        "    with output_active_projects_chart:\n",
        "        output_active_projects_chart.clear_output()\n",
        "        fig, ax = plt.subplots()\n",
        "        ax.bar(top_active_projects['Document'], top_active_projects['Count'], color='skyblue')\n",
        "        ax.set_xlabel('Document')\n",
        "        ax.set_ylabel('Count')\n",
        "        ax.set_title('Top 5 Active Projects - (amount of actions)')\n",
        "        plt.xticks(rotation=90)\n",
        "\n",
        "        # Annotate each bar with its value\n",
        "        for index, value in enumerate(top_active_projects['Count']):\n",
        "            ax.text(index, value, str(value), ha='center', va='bottom')\n",
        "\n",
        "        plt.show()\n",
        "\n",
        "# Link dropdown to the update function\n",
        "def on_user_change_chart(change):\n",
        "    update_active_projects_chart(change['new'])\n",
        "# Callback function to update the bar chart\n",
        "def update_common_actions_chart(user):\n",
        "    user_data = data[data['User'] == user]\n",
        "    common_actions = user_data['Description'].value_counts().head(10).reset_index()\n",
        "    common_actions.columns = ['Description', 'Count']\n",
        "\n",
        "    with output_common_actions_chart:\n",
        "        output_common_actions_chart.clear_output()\n",
        "        fig, ax = plt.subplots()\n",
        "        ax.bar(common_actions['Description'], common_actions['Count'], color='lightgreen')\n",
        "        ax.set_xlabel('Action')\n",
        "        ax.set_ylabel('Count')\n",
        "        ax.set_title(f'10 Most Common Actions by User: {user}')\n",
        "        plt.xticks(rotation=90, ha='right')\n",
        "\n",
        "        # Annotate each bar with its value\n",
        "        for index, value in enumerate(common_actions['Count']):\n",
        "            ax.text(index, value, str(value), ha='center', va='bottom')\n",
        "\n",
        "        plt.show()\n",
        "\n",
        "# Link dropdown to the update function\n",
        "def on_user_change_common_actions(change):\n",
        "    update_common_actions_chart(change['new'])\n",
        "\n",
        "# Callback function to update the nested pie chart\n",
        "def update_nested_pie_chart(user):\n",
        "    user_data = df[df['User'] == user]\n",
        "    project_tab_counts = user_data.groupby(['Document', 'Tab']).size().reset_index(name='Count')\n",
        "\n",
        "    top_projects = user_data['Document'].value_counts().head(3).index\n",
        "    project_tab_counts = project_tab_counts[project_tab_counts['Document'].isin(top_projects)]\n",
        "\n",
        "    projects = project_tab_counts['Document'].unique()\n",
        "    tab_counts_per_project = [project_tab_counts[project_tab_counts['Document'] == project]['Count'].sum() for project in projects]\n",
        "\n",
        "    with output_nested_pie_chart:\n",
        "        output_nested_pie_chart.clear_output()\n",
        "        fig, ax = plt.subplots()\n",
        "        ax.pie(tab_counts_per_project, labels=projects, radius=2, wedgeprops=dict(width=0.6, edgecolor='w'),textprops={'fontsize': 10})\n",
        "\n",
        "        tabs = project_tab_counts['Tab']\n",
        "        tab_counts = project_tab_counts['Count']\n",
        "        ax.pie(tab_counts, labels=tabs, radius=1, wedgeprops=dict(width=0.6, edgecolor='w'),textprops={'fontsize': 10})\n",
        "\n",
        "        ax.set(aspect=\"equal\", title=f'Nested Pie Chart of Tabs in Top 3 Projects for User: {user}')\n",
        "        plt.show()\n",
        "def on_user_change_nested_pie(change):\n",
        "    update_nested_pie_chart(change['new'])\n",
        "\n",
        "user_dropdown_1.observe(on_user_change_common_actions, names='value')\n",
        "user_dropdown_1.observe(on_user_change_chart, names='value')\n",
        "user_dropdown_1.observe(on_user_change_table, names='value')\n",
        "user_dropdown_1.observe(on_user_change_nested_pie, names='value')"
      ],
      "metadata": {
        "id": "GvX2P5mXMsab",
        "colab": {
          "base_uri": "https://localhost:8080/",
          "height": 1000,
          "referenced_widgets": [
            "155d889ca9bf43e29296cf3979ad5d05",
            "dda576ae12014601a524e0663598012e",
            "5ca8d86d1b364377a8994a29004de2af",
            "0f83ca8b35fb4bfba3aeef9bcd4f03ed",
            "30fcb13b67ea47dca934958a14ebe20f",
            "f8a94c65682343d6a9475c3a61b58d79",
            "1cee5175e4c24dc6ad153bdf3ac3649d",
            "1a9cfe30b6e54b22a47059cf403e6c2a",
            "175a42796dfc4595beefa3104009f098",
            "a5b759e427d4401fb23a28c6906fbbfe",
            "e62a7567012b4c7e8cf324d3f3d16417"
          ]
        },
        "outputId": "496d6a6b-8ef4-4d95-98dd-f6b9b91331b7"
      },
      "id": "GvX2P5mXMsab",
      "execution_count": 7,
      "outputs": [
        {
          "output_type": "display_data",
          "data": {
            "text/plain": [
              "Dropdown(description='User:', options=('StudentA1', 'StudentA2', 'StudentA3'), value='StudentA1')"
            ],
            "application/vnd.jupyter.widget-view+json": {
              "version_major": 2,
              "version_minor": 0,
              "model_id": "155d889ca9bf43e29296cf3979ad5d05"
            }
          },
          "metadata": {}
        },
        {
          "output_type": "display_data",
          "data": {
            "text/plain": [
              "Output()"
            ],
            "application/vnd.jupyter.widget-view+json": {
              "version_major": 2,
              "version_minor": 0,
              "model_id": "0f83ca8b35fb4bfba3aeef9bcd4f03ed"
            }
          },
          "metadata": {}
        },
        {
          "output_type": "display_data",
          "data": {
            "text/plain": [
              "Output()"
            ],
            "application/vnd.jupyter.widget-view+json": {
              "version_major": 2,
              "version_minor": 0,
              "model_id": "f8a94c65682343d6a9475c3a61b58d79"
            }
          },
          "metadata": {}
        },
        {
          "output_type": "display_data",
          "data": {
            "text/plain": [
              "Output()"
            ],
            "application/vnd.jupyter.widget-view+json": {
              "version_major": 2,
              "version_minor": 0,
              "model_id": "1a9cfe30b6e54b22a47059cf403e6c2a"
            }
          },
          "metadata": {}
        },
        {
          "output_type": "display_data",
          "data": {
            "text/plain": [
              "Output()"
            ],
            "application/vnd.jupyter.widget-view+json": {
              "version_major": 2,
              "version_minor": 0,
              "model_id": "a5b759e427d4401fb23a28c6906fbbfe"
            }
          },
          "metadata": {}
        }
      ]
    }
  ],
  "metadata": {
    "colab": {
      "provenance": [],
      "include_colab_link": true
    },
    "language_info": {
      "name": "python"
    },
    "kernelspec": {
      "name": "python3",
      "display_name": "Python 3"
    },
    "widgets": {
      "application/vnd.jupyter.widget-state+json": {
        "5bb33deb093f43ce916f8d6ca7c10069": {
          "model_module": "@jupyter-widgets/controls",
          "model_name": "DropdownModel",
          "model_module_version": "1.5.0",
          "state": {
            "_dom_classes": [],
            "_model_module": "@jupyter-widgets/controls",
            "_model_module_version": "1.5.0",
            "_model_name": "DropdownModel",
            "_options_labels": [
              "Whole Project",
              "Industry 4.0 Project",
              "Part Studio 1 Copy 1.stl",
              "Part Studio 1.stl",
              "Part Studio 2.stl",
              "Part Studio 2 Copy 1.stl",
              "nan",
              "Bridge - StudentA1+A2+A3..stl",
              "Bridge - StudentA1+A2+A3.stl",
              "Bridge",
              "Update Bridge 5.12.22",
              "2_StudentA1+A2+A3.stl",
              "Bridge 1- StudentA1+A2+A3.stl",
              "Bridge Challenge 2.0 - Rabea+Aibeck+Shiraz (Look for the  notes in the STL file)",
              "Bridge V2",
              "Bridge - 2 - StudentA1+A2+A3.stl",
              "Bridge - 1 - StudentA1+A2+A3.stl",
              "Bridge ver1- Daniel&Omer (1).stl",
              "אתגר הגשר - הגדרה",
              "Start",
              "rotation to displacement"
            ],
            "_view_count": null,
            "_view_module": "@jupyter-widgets/controls",
            "_view_module_version": "1.5.0",
            "_view_name": "DropdownView",
            "description": "Document:",
            "description_tooltip": null,
            "disabled": false,
            "index": 9,
            "layout": "IPY_MODEL_dbdb00b6b4064d54b2e116389a977389",
            "style": "IPY_MODEL_956c4f6fca7540d89ad0a9a3e04b589b"
          }
        },
        "dbdb00b6b4064d54b2e116389a977389": {
          "model_module": "@jupyter-widgets/base",
          "model_name": "LayoutModel",
          "model_module_version": "1.2.0",
          "state": {
            "_model_module": "@jupyter-widgets/base",
            "_model_module_version": "1.2.0",
            "_model_name": "LayoutModel",
            "_view_count": null,
            "_view_module": "@jupyter-widgets/base",
            "_view_module_version": "1.2.0",
            "_view_name": "LayoutView",
            "align_content": null,
            "align_items": null,
            "align_self": null,
            "border": null,
            "bottom": null,
            "display": null,
            "flex": null,
            "flex_flow": null,
            "grid_area": null,
            "grid_auto_columns": null,
            "grid_auto_flow": null,
            "grid_auto_rows": null,
            "grid_column": null,
            "grid_gap": null,
            "grid_row": null,
            "grid_template_areas": null,
            "grid_template_columns": null,
            "grid_template_rows": null,
            "height": null,
            "justify_content": null,
            "justify_items": null,
            "left": null,
            "margin": null,
            "max_height": null,
            "max_width": null,
            "min_height": null,
            "min_width": null,
            "object_fit": null,
            "object_position": null,
            "order": null,
            "overflow": null,
            "overflow_x": null,
            "overflow_y": null,
            "padding": null,
            "right": null,
            "top": null,
            "visibility": null,
            "width": null
          }
        },
        "956c4f6fca7540d89ad0a9a3e04b589b": {
          "model_module": "@jupyter-widgets/controls",
          "model_name": "DescriptionStyleModel",
          "model_module_version": "1.5.0",
          "state": {
            "_model_module": "@jupyter-widgets/controls",
            "_model_module_version": "1.5.0",
            "_model_name": "DescriptionStyleModel",
            "_view_count": null,
            "_view_module": "@jupyter-widgets/base",
            "_view_module_version": "1.2.0",
            "_view_name": "StyleView",
            "description_width": ""
          }
        },
        "c05a6c3075c54884bd01a2f63e308cf8": {
          "model_module": "@jupyter-widgets/controls",
          "model_name": "DropdownModel",
          "model_module_version": "1.5.0",
          "state": {
            "_dom_classes": [],
            "_model_module": "@jupyter-widgets/controls",
            "_model_module_version": "1.5.0",
            "_model_name": "DropdownModel",
            "_options_labels": [
              "Learning Curve",
              "Working Hours"
            ],
            "_view_count": null,
            "_view_module": "@jupyter-widgets/controls",
            "_view_module_version": "1.5.0",
            "_view_name": "DropdownView",
            "description": "Data Type:",
            "description_tooltip": null,
            "disabled": false,
            "index": 1,
            "layout": "IPY_MODEL_7b828a779f9d496ba6ef600a984bc7c8",
            "style": "IPY_MODEL_798c3d78c3dd4ad8978802b19125943d"
          }
        },
        "7b828a779f9d496ba6ef600a984bc7c8": {
          "model_module": "@jupyter-widgets/base",
          "model_name": "LayoutModel",
          "model_module_version": "1.2.0",
          "state": {
            "_model_module": "@jupyter-widgets/base",
            "_model_module_version": "1.2.0",
            "_model_name": "LayoutModel",
            "_view_count": null,
            "_view_module": "@jupyter-widgets/base",
            "_view_module_version": "1.2.0",
            "_view_name": "LayoutView",
            "align_content": null,
            "align_items": null,
            "align_self": null,
            "border": null,
            "bottom": null,
            "display": null,
            "flex": null,
            "flex_flow": null,
            "grid_area": null,
            "grid_auto_columns": null,
            "grid_auto_flow": null,
            "grid_auto_rows": null,
            "grid_column": null,
            "grid_gap": null,
            "grid_row": null,
            "grid_template_areas": null,
            "grid_template_columns": null,
            "grid_template_rows": null,
            "height": null,
            "justify_content": null,
            "justify_items": null,
            "left": null,
            "margin": null,
            "max_height": null,
            "max_width": null,
            "min_height": null,
            "min_width": null,
            "object_fit": null,
            "object_position": null,
            "order": null,
            "overflow": null,
            "overflow_x": null,
            "overflow_y": null,
            "padding": null,
            "right": null,
            "top": null,
            "visibility": null,
            "width": null
          }
        },
        "798c3d78c3dd4ad8978802b19125943d": {
          "model_module": "@jupyter-widgets/controls",
          "model_name": "DescriptionStyleModel",
          "model_module_version": "1.5.0",
          "state": {
            "_model_module": "@jupyter-widgets/controls",
            "_model_module_version": "1.5.0",
            "_model_name": "DescriptionStyleModel",
            "_view_count": null,
            "_view_module": "@jupyter-widgets/base",
            "_view_module_version": "1.2.0",
            "_view_name": "StyleView",
            "description_width": ""
          }
        },
        "580d48b01c7c49afb26ccca804b4c020": {
          "model_module": "@jupyter-widgets/controls",
          "model_name": "DropdownModel",
          "model_module_version": "1.5.0",
          "state": {
            "_dom_classes": [],
            "_model_module": "@jupyter-widgets/controls",
            "_model_module_version": "1.5.0",
            "_model_name": "DropdownModel",
            "_options_labels": [
              "All Users",
              "StudentA1",
              "StudentA2",
              "StudentA3"
            ],
            "_view_count": null,
            "_view_module": "@jupyter-widgets/controls",
            "_view_module_version": "1.5.0",
            "_view_name": "DropdownView",
            "description": "User:",
            "description_tooltip": null,
            "disabled": false,
            "index": 1,
            "layout": "IPY_MODEL_a0451fc9433741dca1cbac81f1103e04",
            "style": "IPY_MODEL_f21a93a1937e41549f67fa3c94c7b1df"
          }
        },
        "a0451fc9433741dca1cbac81f1103e04": {
          "model_module": "@jupyter-widgets/base",
          "model_name": "LayoutModel",
          "model_module_version": "1.2.0",
          "state": {
            "_model_module": "@jupyter-widgets/base",
            "_model_module_version": "1.2.0",
            "_model_name": "LayoutModel",
            "_view_count": null,
            "_view_module": "@jupyter-widgets/base",
            "_view_module_version": "1.2.0",
            "_view_name": "LayoutView",
            "align_content": null,
            "align_items": null,
            "align_self": null,
            "border": null,
            "bottom": null,
            "display": null,
            "flex": null,
            "flex_flow": null,
            "grid_area": null,
            "grid_auto_columns": null,
            "grid_auto_flow": null,
            "grid_auto_rows": null,
            "grid_column": null,
            "grid_gap": null,
            "grid_row": null,
            "grid_template_areas": null,
            "grid_template_columns": null,
            "grid_template_rows": null,
            "height": null,
            "justify_content": null,
            "justify_items": null,
            "left": null,
            "margin": null,
            "max_height": null,
            "max_width": null,
            "min_height": null,
            "min_width": null,
            "object_fit": null,
            "object_position": null,
            "order": null,
            "overflow": null,
            "overflow_x": null,
            "overflow_y": null,
            "padding": null,
            "right": null,
            "top": null,
            "visibility": null,
            "width": null
          }
        },
        "f21a93a1937e41549f67fa3c94c7b1df": {
          "model_module": "@jupyter-widgets/controls",
          "model_name": "DescriptionStyleModel",
          "model_module_version": "1.5.0",
          "state": {
            "_model_module": "@jupyter-widgets/controls",
            "_model_module_version": "1.5.0",
            "_model_name": "DescriptionStyleModel",
            "_view_count": null,
            "_view_module": "@jupyter-widgets/base",
            "_view_module_version": "1.2.0",
            "_view_name": "StyleView",
            "description_width": ""
          }
        },
        "d3775f53fd8f4491977cf9249d11db86": {
          "model_module": "@jupyter-widgets/controls",
          "model_name": "DropdownModel",
          "model_module_version": "1.5.0",
          "state": {
            "_dom_classes": [],
            "_model_module": "@jupyter-widgets/controls",
            "_model_module_version": "1.5.0",
            "_model_name": "DropdownModel",
            "_options_labels": [
              "Bar"
            ],
            "_view_count": null,
            "_view_module": "@jupyter-widgets/controls",
            "_view_module_version": "1.5.0",
            "_view_name": "DropdownView",
            "description": "Graph Type:",
            "description_tooltip": null,
            "disabled": false,
            "index": 0,
            "layout": "IPY_MODEL_943d8093cfd54fcf8e418163fc15d6d2",
            "style": "IPY_MODEL_7cfdb55dc8c74781962a415f3966eac8"
          }
        },
        "943d8093cfd54fcf8e418163fc15d6d2": {
          "model_module": "@jupyter-widgets/base",
          "model_name": "LayoutModel",
          "model_module_version": "1.2.0",
          "state": {
            "_model_module": "@jupyter-widgets/base",
            "_model_module_version": "1.2.0",
            "_model_name": "LayoutModel",
            "_view_count": null,
            "_view_module": "@jupyter-widgets/base",
            "_view_module_version": "1.2.0",
            "_view_name": "LayoutView",
            "align_content": null,
            "align_items": null,
            "align_self": null,
            "border": null,
            "bottom": null,
            "display": null,
            "flex": null,
            "flex_flow": null,
            "grid_area": null,
            "grid_auto_columns": null,
            "grid_auto_flow": null,
            "grid_auto_rows": null,
            "grid_column": null,
            "grid_gap": null,
            "grid_row": null,
            "grid_template_areas": null,
            "grid_template_columns": null,
            "grid_template_rows": null,
            "height": null,
            "justify_content": null,
            "justify_items": null,
            "left": null,
            "margin": null,
            "max_height": null,
            "max_width": null,
            "min_height": null,
            "min_width": null,
            "object_fit": null,
            "object_position": null,
            "order": null,
            "overflow": null,
            "overflow_x": null,
            "overflow_y": null,
            "padding": null,
            "right": null,
            "top": null,
            "visibility": null,
            "width": null
          }
        },
        "7cfdb55dc8c74781962a415f3966eac8": {
          "model_module": "@jupyter-widgets/controls",
          "model_name": "DescriptionStyleModel",
          "model_module_version": "1.5.0",
          "state": {
            "_model_module": "@jupyter-widgets/controls",
            "_model_module_version": "1.5.0",
            "_model_name": "DescriptionStyleModel",
            "_view_count": null,
            "_view_module": "@jupyter-widgets/base",
            "_view_module_version": "1.2.0",
            "_view_name": "StyleView",
            "description_width": ""
          }
        },
        "5b67fa3d857040b3b6a414ebad8762f8": {
          "model_module": "@jupyter-widgets/controls",
          "model_name": "ButtonModel",
          "model_module_version": "1.5.0",
          "state": {
            "_dom_classes": [],
            "_model_module": "@jupyter-widgets/controls",
            "_model_module_version": "1.5.0",
            "_model_name": "ButtonModel",
            "_view_count": null,
            "_view_module": "@jupyter-widgets/controls",
            "_view_module_version": "1.5.0",
            "_view_name": "ButtonView",
            "button_style": "",
            "description": "Export to PDF",
            "disabled": false,
            "icon": "",
            "layout": "IPY_MODEL_374d1aac3d7e4cec93582dfcec6ffcf7",
            "style": "IPY_MODEL_8b41a02a67e544668394180388d7ef42",
            "tooltip": ""
          }
        },
        "374d1aac3d7e4cec93582dfcec6ffcf7": {
          "model_module": "@jupyter-widgets/base",
          "model_name": "LayoutModel",
          "model_module_version": "1.2.0",
          "state": {
            "_model_module": "@jupyter-widgets/base",
            "_model_module_version": "1.2.0",
            "_model_name": "LayoutModel",
            "_view_count": null,
            "_view_module": "@jupyter-widgets/base",
            "_view_module_version": "1.2.0",
            "_view_name": "LayoutView",
            "align_content": null,
            "align_items": null,
            "align_self": null,
            "border": null,
            "bottom": null,
            "display": null,
            "flex": null,
            "flex_flow": null,
            "grid_area": null,
            "grid_auto_columns": null,
            "grid_auto_flow": null,
            "grid_auto_rows": null,
            "grid_column": null,
            "grid_gap": null,
            "grid_row": null,
            "grid_template_areas": null,
            "grid_template_columns": null,
            "grid_template_rows": null,
            "height": null,
            "justify_content": null,
            "justify_items": null,
            "left": null,
            "margin": null,
            "max_height": null,
            "max_width": null,
            "min_height": null,
            "min_width": null,
            "object_fit": null,
            "object_position": null,
            "order": null,
            "overflow": null,
            "overflow_x": null,
            "overflow_y": null,
            "padding": null,
            "right": null,
            "top": null,
            "visibility": null,
            "width": null
          }
        },
        "8b41a02a67e544668394180388d7ef42": {
          "model_module": "@jupyter-widgets/controls",
          "model_name": "ButtonStyleModel",
          "model_module_version": "1.5.0",
          "state": {
            "_model_module": "@jupyter-widgets/controls",
            "_model_module_version": "1.5.0",
            "_model_name": "ButtonStyleModel",
            "_view_count": null,
            "_view_module": "@jupyter-widgets/base",
            "_view_module_version": "1.2.0",
            "_view_name": "StyleView",
            "button_color": null,
            "font_weight": ""
          }
        },
        "155d889ca9bf43e29296cf3979ad5d05": {
          "model_module": "@jupyter-widgets/controls",
          "model_name": "DropdownModel",
          "model_module_version": "1.5.0",
          "state": {
            "_dom_classes": [],
            "_model_module": "@jupyter-widgets/controls",
            "_model_module_version": "1.5.0",
            "_model_name": "DropdownModel",
            "_options_labels": [
              "StudentA1",
              "StudentA2",
              "StudentA3"
            ],
            "_view_count": null,
            "_view_module": "@jupyter-widgets/controls",
            "_view_module_version": "1.5.0",
            "_view_name": "DropdownView",
            "description": "User:",
            "description_tooltip": null,
            "disabled": false,
            "index": 1,
            "layout": "IPY_MODEL_dda576ae12014601a524e0663598012e",
            "style": "IPY_MODEL_5ca8d86d1b364377a8994a29004de2af"
          }
        },
        "dda576ae12014601a524e0663598012e": {
          "model_module": "@jupyter-widgets/base",
          "model_name": "LayoutModel",
          "model_module_version": "1.2.0",
          "state": {
            "_model_module": "@jupyter-widgets/base",
            "_model_module_version": "1.2.0",
            "_model_name": "LayoutModel",
            "_view_count": null,
            "_view_module": "@jupyter-widgets/base",
            "_view_module_version": "1.2.0",
            "_view_name": "LayoutView",
            "align_content": null,
            "align_items": null,
            "align_self": null,
            "border": null,
            "bottom": null,
            "display": null,
            "flex": null,
            "flex_flow": null,
            "grid_area": null,
            "grid_auto_columns": null,
            "grid_auto_flow": null,
            "grid_auto_rows": null,
            "grid_column": null,
            "grid_gap": null,
            "grid_row": null,
            "grid_template_areas": null,
            "grid_template_columns": null,
            "grid_template_rows": null,
            "height": null,
            "justify_content": null,
            "justify_items": null,
            "left": null,
            "margin": null,
            "max_height": null,
            "max_width": null,
            "min_height": null,
            "min_width": null,
            "object_fit": null,
            "object_position": null,
            "order": null,
            "overflow": null,
            "overflow_x": null,
            "overflow_y": null,
            "padding": null,
            "right": null,
            "top": null,
            "visibility": null,
            "width": null
          }
        },
        "5ca8d86d1b364377a8994a29004de2af": {
          "model_module": "@jupyter-widgets/controls",
          "model_name": "DescriptionStyleModel",
          "model_module_version": "1.5.0",
          "state": {
            "_model_module": "@jupyter-widgets/controls",
            "_model_module_version": "1.5.0",
            "_model_name": "DescriptionStyleModel",
            "_view_count": null,
            "_view_module": "@jupyter-widgets/base",
            "_view_module_version": "1.2.0",
            "_view_name": "StyleView",
            "description_width": ""
          }
        },
        "0f83ca8b35fb4bfba3aeef9bcd4f03ed": {
          "model_module": "@jupyter-widgets/output",
          "model_name": "OutputModel",
          "model_module_version": "1.0.0",
          "state": {
            "_dom_classes": [],
            "_model_module": "@jupyter-widgets/output",
            "_model_module_version": "1.0.0",
            "_model_name": "OutputModel",
            "_view_count": null,
            "_view_module": "@jupyter-widgets/output",
            "_view_module_version": "1.0.0",
            "_view_name": "OutputView",
            "layout": "IPY_MODEL_30fcb13b67ea47dca934958a14ebe20f",
            "msg_id": "",
            "outputs": [
              {
                "output_type": "display_data",
                "data": {
                  "text/plain": "<IPython.core.display.HTML object>",
                  "text/html": "<table border=\"1\" class=\"dataframe\">\n  <thead>\n    <tr style=\"text-align: right;\">\n      <th>Document</th>\n      <th>Count</th>\n    </tr>\n  </thead>\n  <tbody>\n    <tr>\n      <td>Bridge</td>\n      <td>3899</td>\n    </tr>\n    <tr>\n      <td>rotation to displacement</td>\n      <td>505</td>\n    </tr>\n    <tr>\n      <td>2_StudentA1+A2+A3.stl</td>\n      <td>12</td>\n    </tr>\n    <tr>\n      <td>Bridge Challenge 2.0 - Rabea+Aibeck+Shiraz (Look for the  notes in the STL file)</td>\n      <td>10</td>\n    </tr>\n    <tr>\n      <td>Bridge - 2 - StudentA1+A2+A3.stl</td>\n      <td>8</td>\n    </tr>\n    <tr>\n      <td>Bridge - StudentA1+A2+A3.stl</td>\n      <td>5</td>\n    </tr>\n    <tr>\n      <td>אתגר הגשר - הגדרה</td>\n      <td>5</td>\n    </tr>\n  </tbody>\n</table>"
                },
                "metadata": {}
              }
            ]
          }
        },
        "30fcb13b67ea47dca934958a14ebe20f": {
          "model_module": "@jupyter-widgets/base",
          "model_name": "LayoutModel",
          "model_module_version": "1.2.0",
          "state": {
            "_model_module": "@jupyter-widgets/base",
            "_model_module_version": "1.2.0",
            "_model_name": "LayoutModel",
            "_view_count": null,
            "_view_module": "@jupyter-widgets/base",
            "_view_module_version": "1.2.0",
            "_view_name": "LayoutView",
            "align_content": null,
            "align_items": null,
            "align_self": null,
            "border": null,
            "bottom": null,
            "display": null,
            "flex": null,
            "flex_flow": null,
            "grid_area": null,
            "grid_auto_columns": null,
            "grid_auto_flow": null,
            "grid_auto_rows": null,
            "grid_column": null,
            "grid_gap": null,
            "grid_row": null,
            "grid_template_areas": null,
            "grid_template_columns": null,
            "grid_template_rows": null,
            "height": null,
            "justify_content": null,
            "justify_items": null,
            "left": null,
            "margin": null,
            "max_height": null,
            "max_width": null,
            "min_height": null,
            "min_width": null,
            "object_fit": null,
            "object_position": null,
            "order": null,
            "overflow": null,
            "overflow_x": null,
            "overflow_y": null,
            "padding": null,
            "right": null,
            "top": null,
            "visibility": null,
            "width": null
          }
        },
        "f8a94c65682343d6a9475c3a61b58d79": {
          "model_module": "@jupyter-widgets/output",
          "model_name": "OutputModel",
          "model_module_version": "1.0.0",
          "state": {
            "_dom_classes": [],
            "_model_module": "@jupyter-widgets/output",
            "_model_module_version": "1.0.0",
            "_model_name": "OutputModel",
            "_view_count": null,
            "_view_module": "@jupyter-widgets/output",
            "_view_module_version": "1.0.0",
            "_view_name": "OutputView",
            "layout": "IPY_MODEL_1cee5175e4c24dc6ad153bdf3ac3649d",
            "msg_id": "",
            "outputs": [
              {
                "output_type": "display_data",
                "data": {
                  "text/plain": "<Figure size 640x480 with 1 Axes>",
                  "image/png": "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\n"
                },
                "metadata": {}
              }
            ]
          }
        },
        "1cee5175e4c24dc6ad153bdf3ac3649d": {
          "model_module": "@jupyter-widgets/base",
          "model_name": "LayoutModel",
          "model_module_version": "1.2.0",
          "state": {
            "_model_module": "@jupyter-widgets/base",
            "_model_module_version": "1.2.0",
            "_model_name": "LayoutModel",
            "_view_count": null,
            "_view_module": "@jupyter-widgets/base",
            "_view_module_version": "1.2.0",
            "_view_name": "LayoutView",
            "align_content": null,
            "align_items": null,
            "align_self": null,
            "border": null,
            "bottom": null,
            "display": null,
            "flex": null,
            "flex_flow": null,
            "grid_area": null,
            "grid_auto_columns": null,
            "grid_auto_flow": null,
            "grid_auto_rows": null,
            "grid_column": null,
            "grid_gap": null,
            "grid_row": null,
            "grid_template_areas": null,
            "grid_template_columns": null,
            "grid_template_rows": null,
            "height": null,
            "justify_content": null,
            "justify_items": null,
            "left": null,
            "margin": null,
            "max_height": null,
            "max_width": null,
            "min_height": null,
            "min_width": null,
            "object_fit": null,
            "object_position": null,
            "order": null,
            "overflow": null,
            "overflow_x": null,
            "overflow_y": null,
            "padding": null,
            "right": null,
            "top": null,
            "visibility": null,
            "width": null
          }
        },
        "1a9cfe30b6e54b22a47059cf403e6c2a": {
          "model_module": "@jupyter-widgets/output",
          "model_name": "OutputModel",
          "model_module_version": "1.0.0",
          "state": {
            "_dom_classes": [],
            "_model_module": "@jupyter-widgets/output",
            "_model_module_version": "1.0.0",
            "_model_name": "OutputModel",
            "_view_count": null,
            "_view_module": "@jupyter-widgets/output",
            "_view_module_version": "1.0.0",
            "_view_name": "OutputView",
            "layout": "IPY_MODEL_175a42796dfc4595beefa3104009f098",
            "msg_id": "",
            "outputs": [
              {
                "output_type": "display_data",
                "data": {
                  "text/plain": "<Figure size 640x480 with 1 Axes>",
                  "image/png": "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\n"
                },
                "metadata": {}
              }
            ]
          }
        },
        "175a42796dfc4595beefa3104009f098": {
          "model_module": "@jupyter-widgets/base",
          "model_name": "LayoutModel",
          "model_module_version": "1.2.0",
          "state": {
            "_model_module": "@jupyter-widgets/base",
            "_model_module_version": "1.2.0",
            "_model_name": "LayoutModel",
            "_view_count": null,
            "_view_module": "@jupyter-widgets/base",
            "_view_module_version": "1.2.0",
            "_view_name": "LayoutView",
            "align_content": null,
            "align_items": null,
            "align_self": null,
            "border": null,
            "bottom": null,
            "display": null,
            "flex": null,
            "flex_flow": null,
            "grid_area": null,
            "grid_auto_columns": null,
            "grid_auto_flow": null,
            "grid_auto_rows": null,
            "grid_column": null,
            "grid_gap": null,
            "grid_row": null,
            "grid_template_areas": null,
            "grid_template_columns": null,
            "grid_template_rows": null,
            "height": null,
            "justify_content": null,
            "justify_items": null,
            "left": null,
            "margin": null,
            "max_height": null,
            "max_width": null,
            "min_height": null,
            "min_width": null,
            "object_fit": null,
            "object_position": null,
            "order": null,
            "overflow": null,
            "overflow_x": null,
            "overflow_y": null,
            "padding": null,
            "right": null,
            "top": null,
            "visibility": null,
            "width": null
          }
        },
        "a5b759e427d4401fb23a28c6906fbbfe": {
          "model_module": "@jupyter-widgets/output",
          "model_name": "OutputModel",
          "model_module_version": "1.0.0",
          "state": {
            "_dom_classes": [],
            "_model_module": "@jupyter-widgets/output",
            "_model_module_version": "1.0.0",
            "_model_name": "OutputModel",
            "_view_count": null,
            "_view_module": "@jupyter-widgets/output",
            "_view_module_version": "1.0.0",
            "_view_name": "OutputView",
            "layout": "IPY_MODEL_e62a7567012b4c7e8cf324d3f3d16417",
            "msg_id": "",
            "outputs": [
              {
                "output_type": "display_data",
                "data": {
                  "text/plain": "<Figure size 640x480 with 1 Axes>",
                  "image/png": "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\n"
                },
                "metadata": {}
              }
            ]
          }
        },
        "e62a7567012b4c7e8cf324d3f3d16417": {
          "model_module": "@jupyter-widgets/base",
          "model_name": "LayoutModel",
          "model_module_version": "1.2.0",
          "state": {
            "_model_module": "@jupyter-widgets/base",
            "_model_module_version": "1.2.0",
            "_model_name": "LayoutModel",
            "_view_count": null,
            "_view_module": "@jupyter-widgets/base",
            "_view_module_version": "1.2.0",
            "_view_name": "LayoutView",
            "align_content": null,
            "align_items": null,
            "align_self": null,
            "border": null,
            "bottom": null,
            "display": null,
            "flex": null,
            "flex_flow": null,
            "grid_area": null,
            "grid_auto_columns": null,
            "grid_auto_flow": null,
            "grid_auto_rows": null,
            "grid_column": null,
            "grid_gap": null,
            "grid_row": null,
            "grid_template_areas": null,
            "grid_template_columns": null,
            "grid_template_rows": null,
            "height": null,
            "justify_content": null,
            "justify_items": null,
            "left": null,
            "margin": null,
            "max_height": null,
            "max_width": null,
            "min_height": null,
            "min_width": null,
            "object_fit": null,
            "object_position": null,
            "order": null,
            "overflow": null,
            "overflow_x": null,
            "overflow_y": null,
            "padding": null,
            "right": null,
            "top": null,
            "visibility": null,
            "width": null
          }
        }
      }
    }
  },
  "nbformat": 4,
  "nbformat_minor": 5
}