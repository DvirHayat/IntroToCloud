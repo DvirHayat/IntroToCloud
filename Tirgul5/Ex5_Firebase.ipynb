{
  "nbformat": 4,
  "nbformat_minor": 0,
  "metadata": {
    "colab": {
      "provenance": [],
      "mount_file_id": "18eU2h-Y2xazQjWfuyJk12JhvWF_NTRPq",
      "authorship_tag": "ABX9TyN5bABr/FdtRfP47G6wSw0i",
      "include_colab_link": true
    },
    "kernelspec": {
      "name": "python3",
      "display_name": "Python 3"
    },
    "language_info": {
      "name": "python"
    }
  },
  "cells": [
    {
      "cell_type": "markdown",
      "metadata": {
        "id": "view-in-github",
        "colab_type": "text"
      },
      "source": [
        "<a href=\"https://colab.research.google.com/github/DvirHayat/IntroToCloud/blob/main/Tirgul5/Ex5_Firebase.ipynb\" target=\"_parent\"><img src=\"https://colab.research.google.com/assets/colab-badge.svg\" alt=\"Open In Colab\"/></a>"
      ]
    },
    {
      "cell_type": "code",
      "source": [
        "!pip install firebase"
      ],
      "metadata": {
        "colab": {
          "base_uri": "https://localhost:8080/"
        },
        "id": "tioOVgczPVk-",
        "outputId": "6b1da093-b9e9-41fe-deba-15507c73a15c"
      },
      "execution_count": 7,
      "outputs": [
        {
          "output_type": "stream",
          "name": "stdout",
          "text": [
            "Requirement already satisfied: firebase in /usr/local/lib/python3.10/dist-packages (4.0.1)\n",
            "Requirement already satisfied: requests in /usr/local/lib/python3.10/dist-packages (from firebase) (2.31.0)\n",
            "Requirement already satisfied: charset-normalizer<4,>=2 in /usr/local/lib/python3.10/dist-packages (from requests->firebase) (3.3.2)\n",
            "Requirement already satisfied: idna<4,>=2.5 in /usr/local/lib/python3.10/dist-packages (from requests->firebase) (3.7)\n",
            "Requirement already satisfied: urllib3<3,>=1.21.1 in /usr/local/lib/python3.10/dist-packages (from requests->firebase) (2.0.7)\n",
            "Requirement already satisfied: certifi>=2017.4.17 in /usr/local/lib/python3.10/dist-packages (from requests->firebase) (2024.6.2)\n"
          ]
        }
      ]
    },
    {
      "cell_type": "markdown",
      "source": [
        "#### Imports , google drive mounted manually"
      ],
      "metadata": {
        "id": "8onP9s30dXzK"
      }
    },
    {
      "cell_type": "code",
      "source": [
        "from firebase import firebase\n",
        "import json\n",
        "FBconn = firebase.FirebaseApplication('https://cloudcourse-79588-default-rtdb.europe-west1.firebasedatabase.app/',None)"
      ],
      "metadata": {
        "id": "u4B69ixeP2zo"
      },
      "execution_count": 8,
      "outputs": []
    },
    {
      "cell_type": "code",
      "source": [
        "def get_student_details(student):\n",
        "    student_details = {\n",
        "        'first_name': student['first_name'],\n",
        "        'last_name': student['last_name'],\n",
        "        'email': student['email'],\n",
        "        'courses': \", \".join(student['courses']),\n",
        "        'interesting_link': student['interesting_link'],\n",
        "        'favorite_program': student.get('favorite_program', '')\n",
        "    }\n",
        "    return student_details"
      ],
      "metadata": {
        "id": "q4vnoLN9R4U_"
      },
      "execution_count": 9,
      "outputs": []
    },
    {
      "cell_type": "code",
      "source": [
        "json_file_path = '/content/drive/My Drive/student_list.json'\n",
        "with open(json_file_path, 'r') as file:\n",
        "    students = json.load(file)\n",
        "for student in students:\n",
        "    if 'favorite_program' not in student:\n",
        "        student['favorite_program'] = ''\n",
        "for student in students:\n",
        "  data_to_upload = {\n",
        "      'Student' : get_student_details(student)\n",
        "  }\n",
        "  result = FBconn.post('/Students/',data_to_upload)\n",
        "print(result)\n"
      ],
      "metadata": {
        "colab": {
          "base_uri": "https://localhost:8080/"
        },
        "id": "tfFWXuDbRC4O",
        "outputId": "382ae396-539a-4d8d-d21f-c63b85dfe7eb"
      },
      "execution_count": 10,
      "outputs": [
        {
          "output_type": "stream",
          "name": "stdout",
          "text": [
            "{'name': '-O0dS6cfjtgxS8yMgW-1'}\n"
          ]
        }
      ]
    }
  ]
}